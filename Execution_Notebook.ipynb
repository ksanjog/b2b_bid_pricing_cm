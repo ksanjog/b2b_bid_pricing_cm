{
 "cells": [
  {
   "cell_type": "code",
   "execution_count": null,
   "metadata": {},
   "outputs": [],
   "source": [
    "#Import statements\n",
    "from int_dir.config_file import *\n",
    "from helper_modules.ai_db_connect import *\n",
    "from core_modules.create_target_scoring_tables import * \n",
    "import core_modules.create_intermediate_tables as dm_table_creation\n",
    "from core_modules.create_features import *\n",
    "from core_modules.create_intermediate_tables import *\n",
    "\n",
    "import time\n",
    "from Step_2_Model_Train import *"
   ]
  },
  {
   "cell_type": "code",
   "execution_count": null,
   "metadata": {
    "scrolled": false
   },
   "outputs": [],
   "source": [
    "# Run Model\n",
    "start = time.time()\n",
    "rf,all_predictions_df = run_model()\n",
    "end = time.time()\n",
    "print(end-start)"
   ]
  },
  {
   "cell_type": "code",
   "execution_count": null,
   "metadata": {},
   "outputs": [],
   "source": [
    "# Find predictions at nth percentile\n",
    "def pred_ints(rf, x_test, percentile):\n",
    "        err_down = []\n",
    "        err_up = []\n",
    "        for x in range(len(x_test)):\n",
    "            preds = []\n",
    "            for pred in rf.estimators_:\n",
    "                preds.append(pred.predict(np.reshape(x_test.iloc[x,:].array,(1,72)))[0])                \n",
    "            err_down.append(np.percentile(preds, (100 - percentile) / 2. ))\n",
    "            err_up.append(np.percentile(preds, 100 - (100 - percentile) / 2.))\n",
    "        return err_down, err_up\n",
    "    \n",
    "err_down_95, err_up_95 = pred_ints(rf, x_test, percentile=95)"
   ]
  },
  {
   "cell_type": "code",
   "execution_count": null,
   "metadata": {},
   "outputs": [],
   "source": [
    "# Combinate everything above to create df with predictions, actual etc\n",
    "predictions = rf.predict(x_test)\n",
    "df = pd.DataFrame({'Predicted_price':predictions,\n",
    "                   'error_down_95':err_down_95,\n",
    "                   'error_up_95':err_up_95,\n",
    "                   })\n",
    "f = pd.concat([test_key.reset_index(drop=True),\n",
    "               x_test.reset_index(drop=True),\n",
    "               y_test.reset_index(drop=True),\n",
    "               df.reset_index(drop=True)], axis=1)\n",
    "\n",
    "f['estimated_margin'] = f['Predicted_price'] - f['committed_cost_ty']\n",
    "f['margin_lower'] = f['error_down_95'] - f['committed_cost_ty']\n",
    "f['margin_upper'] = f['error_up_95'] - f['committed_cost_ty']\n",
    "\n",
    "price_recomm = f[['key','Predicted_price',\"error_down_95\",\"error_up_95\",\n",
    "                  \"estimated_margin\",\"margin_lower\",\"margin_upper\"]]\n",
    "\n",
    "# Write output to shiny dir for it to be used by shiny R scripts\n",
    "price_recomm.to_csv(\"/home/ncod/Sanjog/code/b2b_bid_pricing/shiny_dashboard/input_data/price_recomm_20200124.csv\",index=False)"
   ]
  },
  {
   "cell_type": "code",
   "execution_count": null,
   "metadata": {},
   "outputs": [],
   "source": [
    "# Find predictions for every tree\n",
    "\n",
    "# x_test = x_test.reset_index(drop = True).iloc[:25,:]\n",
    "# y_test = y_test.reset_index(drop = True).iloc[:25,:]\n",
    "# test_key = test_key.reset_index(drop = True).iloc[:25,:]\n",
    "\n",
    "predictions = pd.DataFrame({'Predicted_price': rf.predict(x_test)})\n",
    "\n",
    "def pred_ints(rf, x_test):\n",
    "    vals = []\n",
    "    for x in range(len(x_test)):\n",
    "        preds = []\n",
    "        for pred in rf.estimators_:\n",
    "            preds.append(pred.predict(np.reshape(x_test.iloc[x,:].array,(1,72)))[0])  # 72 is # of features (change if needed)              \n",
    "        vals.extend(preds)\n",
    "    return vals\n",
    "    \n",
    "op = pred_ints(rf, x_test)\n",
    "op = pd.DataFrame(np.reshape(np.array(op),(15509,500)))\n",
    "prob = pd.concat([test_key.reset_index(drop=True),\n",
    "                  y_test.reset_index(drop=True),\n",
    "                  predictions.reset_index(drop=True),\n",
    "                  op.reset_index(drop=True)], axis=1)\n",
    "\n",
    "# Write output to shiny dir for it to be used by shiny R scripts\n",
    "prob.to_csv(\"/home/ncod/Sanjog/code/b2b_bid_pricing/shiny_dashboard/input_data/price_alltreepredictions_0127.csv\",index=False)"
   ]
  },
  {
   "cell_type": "code",
   "execution_count": null,
   "metadata": {},
   "outputs": [],
   "source": [
    "# Temporary script to write any sql table to csv in platform repository\n",
    "\n",
    "from int_dir.config_file import *\n",
    "\n",
    "def export_keydetails(engine):\n",
    "\n",
    "    query_data = \"SELECT * FROM intermediate_data.key_2019details_2020_01_28\"\n",
    "\n",
    "    raw_data = pd.read_sql(query_data,engine)\n",
    "    \n",
    "    raw_data.to_csv(\"/home/ncod/dashboard_input_data/raw_files/key_2019details_referencetable_0128.csv\",index=False)\n",
    "    return\n",
    "\n",
    "start = time.time()\n",
    "engine = conn_eng()\n",
    "export_keydetails(engine)\n",
    "end = time.time()\n",
    "print(end-start)"
   ]
  }
 ],
 "metadata": {
  "kernelspec": {
   "display_name": "Python 3",
   "language": "python",
   "name": "python3"
  },
  "language_info": {
   "codemirror_mode": {
    "name": "ipython",
    "version": 3
   },
   "file_extension": ".py",
   "mimetype": "text/x-python",
   "name": "python",
   "nbconvert_exporter": "python",
   "pygments_lexer": "ipython3",
   "version": "3.7.3"
  }
 },
 "nbformat": 4,
 "nbformat_minor": 2
}
