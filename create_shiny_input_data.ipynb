{
 "cells": [
  {
   "cell_type": "code",
   "execution_count": null,
   "metadata": {},
   "outputs": [],
   "source": [
    "#Import statements\n",
    "from int_dir.config_file import *\n",
    "from helper_modules.ai_db_connect import *\n",
    "\n",
    "import time\n",
    "import pandas as pd\n",
    "import numpy as np"
   ]
  },
  {
   "cell_type": "code",
   "execution_count": null,
   "metadata": {},
   "outputs": [],
   "source": [
    "# Temporary script to write any sql table to csv in platform repository\n",
    "engine = conn_eng()\n",
    "query_data = \"SELECT * FROM intermediate_data.all_bid_table_intrmdt_2020_01_15 where committed_price_ty > 0 and award_price_ty > 0\"\n",
    "raw_data = pd.read_sql(query_data,engine)\n",
    "\n",
    "raw_data = raw_data[['key','fiscal','destination_no','bid_line_no','customer_no','customer_name',\n",
    "                     'destination_county_name','destination_state_prov','bid_due_date',\n",
    "                     'total_qty_ty','price_competitor_id','committed_price_ty','award_price_ty',\n",
    "                     'award_competitor_id']].drop_duplicates()"
   ]
  },
  {
   "cell_type": "code",
   "execution_count": 52,
   "metadata": {},
   "outputs": [],
   "source": [
    "len(raw_data.index)\n",
    "\n",
    "# Base data\n",
    "base_df = raw_data[['key','fiscal','destination_no','bid_line_no']].drop_duplicates().reset_index(drop=True)\n",
    "len(base_df.index)\n",
    "\n",
    "# Basic details for bid\n",
    "basic_details_df = raw_data[['key','customer_no','customer_name','destination_county_name',\n",
    "                             'destination_state_prov','bid_due_date','total_qty_ty',\n",
    "                             'award_price_ty','award_competitor_id']].drop_duplicates().reset_index(drop=True)\n",
    "len(basic_details_df.index)\n",
    "\n",
    "# did cmp win bid\n",
    "cmp_won_df = raw_data.loc[raw_data['price_competitor_id'] == 'CMP',\n",
    "                          ['key','committed_price_ty','award_competitor_id']].drop_duplicates().reset_index(drop=True)\n",
    "\n",
    "cmp_won_df['CMP_won_bid'] = np.where(cmp_won_df['award_competitor_id'] == 'CMP', 'Yes', 'No')\n",
    "cmp_won_df = cmp_won_df.drop(['award_competitor_id'], axis = 1)\n",
    "cmp_won_df.columns = ['key','cmp_price','cmp_won_bid']\n",
    "\n",
    "# best competitor\n",
    "best_comp_df = raw_data.loc[raw_data['price_competitor_id'] != 'CMP',\n",
    "                          ['key','price_competitor_id','committed_price_ty']].drop_duplicates().reset_index(drop=True)\n",
    "best_comp_df = best_comp_df.sort_values('committed_price_ty', ascending = False).groupby('key').first().reset_index()\n",
    "best_comp_df.columns = ['key','top_competitor_id','top_competitor_price']\n",
    "\n",
    "# lst year\n",
    "last_yr_df = raw_data[['fiscal','destination_no','bid_line_no','award_price_ty','award_competitor_id']].drop_duplicates().reset_index(drop=True)\n",
    "last_yr_df['key'] = ((last_yr_df['fiscal']+1).astype(str) + \"_\" + \n",
    "                     last_yr_df['destination_no'].astype(str) + \"_\" + \n",
    "                     last_yr_df['bid_line_no'].astype(str))\n",
    "last_yr_df = last_yr_df.drop(['fiscal','destination_no','bid_line_no'],axis=1)[['key','award_competitor_id','award_price_ty']]\n",
    "last_yr_df.columns = ['key','last_yr_award_competitor_id','last_yr_award_price']\n",
    "\n",
    "\n",
    "# Combining all above tables into one\n",
    "final_details_df = pd.merge(base_df, basic_details_df,'left',on='key')\n",
    "final_details_df = pd.merge(final_details_df, cmp_won_df,'left',on='key')\n",
    "final_details_df = pd.merge(final_details_df, best_comp_df,'left',on='key')\n",
    "final_details_df = pd.merge(final_details_df, last_yr_df,'left',on='key')\n",
    "\n",
    "# Adding a few additional columns for shiny output\n",
    "final_details_df['delta_awardprice_lastyr'] = final_details_df['award_price_ty'] - final_details_df['last_yr_award_price']\n",
    "final_details_df['incumbent'] = np.where(final_details_df['award_competitor_id'] == final_details_df['last_yr_award_competitor_id'],\n",
    "                                        final_details_df['award_competitor_id'], 'None')\n",
    "final_details_df['city_state'] = final_details_df['destination_county_name']+', '+final_details_df['destination_state_prov']\n",
    "\n",
    "final_details_df.to_csv(\"/home/ncod/dashboard_input_data/raw_files/key_details_referencetable_0129.csv\",index=False)\n",
    "\n",
    "# there are a few keys with multiple entries in the fina_details_df. Group by and select first() to pick only one item per key\n"
   ]
  },
  {
   "cell_type": "code",
   "execution_count": null,
   "metadata": {},
   "outputs": [],
   "source": [
    "print(len(base_df.index))\n",
    "print(len(basic_details_df.index))\n",
    "print(len(cmp_won_df.index))\n",
    "print(len(best_comp_df.index))\n",
    "print(len(last_yr_df.index))\n",
    "print(len(final_details_df.index))\n",
    "final_details_df\n"
   ]
  },
  {
   "cell_type": "code",
   "execution_count": null,
   "metadata": {},
   "outputs": [],
   "source": [
    "start = time.time()\n",
    "engine = conn_eng()\n",
    "export_keydetails(engine)\n",
    "end = time.time()\n",
    "print(end-start)"
   ]
  }
 ],
 "metadata": {
  "kernelspec": {
   "display_name": "Python 3",
   "language": "python",
   "name": "python3"
  },
  "language_info": {
   "codemirror_mode": {
    "name": "ipython",
    "version": 3
   },
   "file_extension": ".py",
   "mimetype": "text/x-python",
   "name": "python",
   "nbconvert_exporter": "python",
   "pygments_lexer": "ipython3",
   "version": "3.7.3"
  }
 },
 "nbformat": 4,
 "nbformat_minor": 2
}
